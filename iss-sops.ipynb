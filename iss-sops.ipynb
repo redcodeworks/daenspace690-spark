{
 "cells": [
  {
   "cell_type": "markdown",
   "source": [
    "# GMU Daen 690 Spark Pipeline"
   ],
   "metadata": {
    "collapsed": false
   }
  },
  {
   "cell_type": "markdown",
   "source": [
    "## Setup\n",
    "Load the `.env` file if available and the application's config file. **Do NOT** commit your `.env` file to version control, as it may contain sensitive info and/or secrets. Use `.env.template` as a base for your personal `.env` file. Environment files should be, as the name suggests, specific to the environment that the application runs in.\n",
    "\n",
    "`tomllib` is used for the application's general configuration that typically doesn't change between environments and is intended to take the place of otherwise hard-coded values. More sophisticated libraries, like `pydantic` or `dynaconf`, exist for merging toml configurations, .env file variables, and the user's environment variables together.\n",
    "\n",
    "Rerun this cell anytime these files change."
   ],
   "metadata": {
    "collapsed": false
   }
  },
  {
   "cell_type": "code",
   "execution_count": 3,
   "outputs": [
    {
     "data": {
      "text/plain": "{'data': {'source': 'data/ISS_HAL_SOPs.csv'}}"
     },
     "execution_count": 3,
     "metadata": {},
     "output_type": "execute_result"
    }
   ],
   "source": [
    "import os\n",
    "from pathlib import Path\n",
    "from dotenv import load_dotenv\n",
    "load_dotenv()\n",
    "\n",
    "import tomllib\n",
    "\n",
    "with Path(\"config.toml\").open(\"rb\") as f:\n",
    "    config = tomllib.load(f)\n",
    "\n",
    "config"
   ],
   "metadata": {
    "collapsed": false
   }
  },
  {
   "cell_type": "markdown",
   "source": [
    "Import the dependencies as usual. This is done after the configuration above incase we want imports to be config-dependent."
   ],
   "metadata": {
    "collapsed": false
   }
  },
  {
   "cell_type": "code",
   "execution_count": 4,
   "outputs": [],
   "source": [
    "import httpx\n",
    "import io\n",
    "import pandas as pd\n",
    "import pyspark as ps\n",
    "from pyspark import SparkContext, SparkFiles\n",
    "from pyspark.sql import SparkSession\n",
    "from pyspark.sql.functions import expr"
   ],
   "metadata": {
    "collapsed": false
   }
  },
  {
   "cell_type": "markdown",
   "source": [
    "Create spark session. Set the app name and execution mode. In this case, use all available cores on the local machine."
   ],
   "metadata": {
    "collapsed": false
   }
  },
  {
   "cell_type": "code",
   "execution_count": 5,
   "outputs": [
    {
     "name": "stderr",
     "output_type": "stream",
     "text": [
      "Setting default log level to \"WARN\".\n",
      "To adjust logging level use sc.setLogLevel(newLevel). For SparkR, use setLogLevel(newLevel).\n"
     ]
    },
    {
     "name": "stdout",
     "output_type": "stream",
     "text": [
      "23/03/31 11:12:51 WARN NativeCodeLoader: Unable to load native-hadoop library for your platform... using builtin-java classes where applicable\n"
     ]
    }
   ],
   "source": [
    "spark = (\n",
    "    SparkSession\n",
    "        .builder\n",
    "        .master(\"local[*]\")\n",
    "        .appName(\"ISS Procedures\")\n",
    "        .getOrCreate()\n",
    "    )"
   ],
   "metadata": {
    "collapsed": false
   }
  },
  {
   "cell_type": "code",
   "execution_count": 19,
   "outputs": [
    {
     "data": {
      "text/plain": "<_io.BytesIO at 0x11b1ed300>"
     },
     "execution_count": 19,
     "metadata": {},
     "output_type": "execute_result"
    }
   ],
   "source": [
    "# Way overthought this, but ultimately, not really compatible with a notebook project.\n",
    "# match config['data']['source'].split(\":\")[0]:\n",
    "#     case \"http\"|\"https\":\n",
    "#         with httpx.Client() as client:\n",
    "#             r = client.get(config['data']['source'])\n",
    "#             csv = io.BytesIO(r.content)\n",
    "#     case \"file\":\n",
    "#         with Path(config['data']['source']).open(\"rb\") as f:\n",
    "#             csv = io.BytesIO(f.read())\n",
    "#     case _:\n",
    "#         csv = config['data']['source']"
   ],
   "metadata": {
    "collapsed": false
   }
  },
  {
   "cell_type": "code",
   "execution_count": 9,
   "outputs": [
    {
     "data": {
      "text/plain": "                  procedure type           procedure name  \\\n0   Manual Manipulation of Items  Reconfigure HAL for EVA   \n1   Manual Manipulation of Items  Reconfigure HAL for EVA   \n2   Manual Manipulation of Items  Reconfigure HAL for EVA   \n3   Manual Manipulation of Items  Reconfigure HAL for EVA   \n4   Manual Manipulation of Items  Reconfigure HAL for EVA   \n5   Manual Manipulation of Items  Reconfigure HAL for EVA   \n6   Manual Manipulation of Items  Reconfigure HAL for EVA   \n7   Manual Manipulation of Items  Reconfigure HAL for EVA   \n8   Manual Manipulation of Items  Reconfigure HAL for EVA   \n9   Manual Manipulation of Items  Reconfigure HAL for EVA   \n10  Manual Manipulation of Items  Reconfigure HAL for EVA   \n11  Manual Manipulation of Items  Reconfigure HAL for EVA   \n12  Manual Manipulation of Items  Reconfigure HAL for EVA   \n13  Manual Manipulation of Items  Reconfigure HAL for EVA   \n14  Manual Manipulation of Items  Reconfigure HAL for EVA   \n15  Manual Manipulation of Items  Reconfigure HAL for EVA   \n16  Manual Manipulation of Items  Reconfigure HAL for EVA   \n17  Manual Manipulation of Items  Reconfigure HAL for EVA   \n18  Manual Manipulation of Items  Reconfigure HAL for EVA   \n19  Manual Manipulation of Items  Reconfigure HAL for EVA   \n\n                                   procedure end goal procedure file number  \\\n0   Configure the habitable airlock for EVA by rem...           HAL_1_0.pdf   \n1                                                None           HAL_1_0.pdf   \n2                                                None           HAL_1_0.pdf   \n3                                                None           HAL_1_0.pdf   \n4                                                None           HAL_1_0.pdf   \n5                                                None           HAL_1_0.pdf   \n6                                                None           HAL_1_0.pdf   \n7                                                None           HAL_1_0.pdf   \n8                                                None           HAL_1_0.pdf   \n9                                                None           HAL_1_0.pdf   \n10                                               None           HAL_1_0.pdf   \n11                                               None           HAL_1_0.pdf   \n12                                               None           HAL_1_0.pdf   \n13                                               None           HAL_1_0.pdf   \n14                                               None           HAL_1_0.pdf   \n15                                               None           HAL_1_0.pdf   \n16                                               None           HAL_1_0.pdf   \n17                                               None           HAL_1_0.pdf   \n18                                               None           HAL_1_0.pdf   \n19                                               None           HAL_1_0.pdf   \n\n    step number actor trigger (what) trigger (how) trigger (where)  \\\n0           1.0  None           None          None            None   \n1           2.0  None           None          None            None   \n2           3.0  None           None          None            None   \n3           4.0  None           None          None            None   \n4           5.0  None           None          None            None   \n5           6.0  None           None          None            None   \n6           7.0  None           None          None            None   \n7           8.0  None           None          None            None   \n8           9.0  None           None          None            None   \n9          10.0  None           None          None            None   \n10         11.0  None           None          None            None   \n11         12.0  None           None          None            None   \n12         13.0  None           None          None            None   \n13         14.0  None           None          None            None   \n14         15.0  None           None          None            None   \n15         16.0  None           None          None            None   \n16         17.0  None           None          None            None   \n17         18.0  None           None          None            None   \n18         19.0  None           None          None            None   \n19         20.0  None           None          None            None   \n\n   decision (what)  ... decision (where)  \\\n0             None  ...             None   \n1             None  ...             None   \n2             None  ...             None   \n3             None  ...             None   \n4             None  ...             None   \n5             None  ...             None   \n6             None  ...             None   \n7             None  ...             None   \n8             None  ...             None   \n9             None  ...             None   \n10            None  ...             None   \n11            None  ...             None   \n12            None  ...             None   \n13            None  ...             None   \n14            None  ...             None   \n15            None  ...             None   \n16            None  ...             None   \n17            None  ...             None   \n18            None  ...             None   \n19            None  ...             None   \n\n                                 action (what)  \\\n0               Stow monitors against the wall   \n1          Stow the keyboards against the wall   \n2                      Remove the seat cushion   \n3                 Fold the chair backs forward   \n4                      Detach crew hygiene kit   \n5                   Stow the crew hygiene kits   \n6                      Remove hatch cargo nets   \n7                     Secure hatch cargo nets    \n8                  Remove IVA Common Tool Kit    \n9                Temp Stow IVA Common Tool Kit   \n10                         \"PRESS \"\"Enable\"\" \"   \n11                      \"PRESS \"\"Door Open\"\" \"   \n12                          \"PRESS \"\"Enable\"\"\"   \n13  \"PRESS \"\"Next Drawer\"\" or \"\"Prev Drawer\"\"\"   \n14                ADJUST drawer position using   \n15                  PULL drawer into HAL cabin   \n16                            REMOVE all bags    \n17                          TEMP STOW all bags   \n18    REMOVE EV1 EVA Mini-Workstation Kit ASSY   \n19     STOW EV1 EVA Mini-Workstation Kit ASSY    \n\n                       action (how)                            action (where)  \\\n0                              None                                      None   \n1                              None                                      None   \n2                              None                                      None   \n3                              None                                      None   \n4                              None        from the aft transfer port hatches   \n5                              None                  in Lockers SA-1 and PA-1   \n6                              None                from lockers SA-1 and PA-1   \n7             to 3 of the 4 D-rings  at the starboard and port hatch openings   \n8                              None                                 from PM-5   \n9                              None             behind the Port Hatch Opening   \n10                             None                       on PRS switch panel   \n11                             None                       on PRS switch panel   \n12                             None                                      None   \n13                             None                                      None   \n14  \"using  \"\"↑\"\" or \"\"↓\"\" buttons\"                                      None   \n15                             None                                      None   \n16                             None                         from PRS Drawer 1   \n17                             None                                      None   \n18                             None                               from PRS_D1   \n19                             None           behind the Port Hatch Cargo Net   \n\n    waiting (what) waiting (how)                 waiting (where)  \\\n0             None          None                            None   \n1             None          None                            None   \n2             None          None                            None   \n3             None          None                            None   \n4             None          None                            None   \n5             None          None                            None   \n6             None          None                            None   \n7             None          None                            None   \n8             None          None                            None   \n9             None          None                            None   \n10            None          None                            None   \n11            None          None                            None   \n12            None          None                            None   \n13  until Drawer 1    positioned  in front of transfer port door   \n14            None          None                            None   \n15            None          None                            None   \n16            None          None                            None   \n17            None          None                            None   \n18            None          None                            None   \n19            None          None                            None   \n\n    verification (what) verification (how) verification (where)  \n0                  None               None                 None  \n1                  None               None                 None  \n2                  None               None                 None  \n3                  None               None                 None  \n4                  None               None                 None  \n5                  None               None                 None  \n6                  None               None                 None  \n7                  None               None                 None  \n8                  None               None                 None  \n9                  None               None                 None  \n10  \"\"\"Enable\"\" button\"           light up     PRS switch panel  \n11                 None               None                 None  \n12          The button            light up     PRS switch panel  \n13                 None               None                 None  \n14                 None               None                 None  \n15                 None               None                 None  \n16                 None               None                 None  \n17                 None               None                 None  \n18                 None               None                 None  \n19                 None               None                 None  \n\n[20 rows x 21 columns]",
      "text/html": "<div>\n<style scoped>\n    .dataframe tbody tr th:only-of-type {\n        vertical-align: middle;\n    }\n\n    .dataframe tbody tr th {\n        vertical-align: top;\n    }\n\n    .dataframe thead th {\n        text-align: right;\n    }\n</style>\n<table border=\"1\" class=\"dataframe\">\n  <thead>\n    <tr style=\"text-align: right;\">\n      <th></th>\n      <th>procedure type</th>\n      <th>procedure name</th>\n      <th>procedure end goal</th>\n      <th>procedure file number</th>\n      <th>step number</th>\n      <th>actor</th>\n      <th>trigger (what)</th>\n      <th>trigger (how)</th>\n      <th>trigger (where)</th>\n      <th>decision (what)</th>\n      <th>...</th>\n      <th>decision (where)</th>\n      <th>action (what)</th>\n      <th>action (how)</th>\n      <th>action (where)</th>\n      <th>waiting (what)</th>\n      <th>waiting (how)</th>\n      <th>waiting (where)</th>\n      <th>verification (what)</th>\n      <th>verification (how)</th>\n      <th>verification (where)</th>\n    </tr>\n  </thead>\n  <tbody>\n    <tr>\n      <th>0</th>\n      <td>Manual Manipulation of Items</td>\n      <td>Reconfigure HAL for EVA</td>\n      <td>Configure the habitable airlock for EVA by rem...</td>\n      <td>HAL_1_0.pdf</td>\n      <td>1.0</td>\n      <td>None</td>\n      <td>None</td>\n      <td>None</td>\n      <td>None</td>\n      <td>None</td>\n      <td>...</td>\n      <td>None</td>\n      <td>Stow monitors against the wall</td>\n      <td>None</td>\n      <td>None</td>\n      <td>None</td>\n      <td>None</td>\n      <td>None</td>\n      <td>None</td>\n      <td>None</td>\n      <td>None</td>\n    </tr>\n    <tr>\n      <th>1</th>\n      <td>Manual Manipulation of Items</td>\n      <td>Reconfigure HAL for EVA</td>\n      <td>None</td>\n      <td>HAL_1_0.pdf</td>\n      <td>2.0</td>\n      <td>None</td>\n      <td>None</td>\n      <td>None</td>\n      <td>None</td>\n      <td>None</td>\n      <td>...</td>\n      <td>None</td>\n      <td>Stow the keyboards against the wall</td>\n      <td>None</td>\n      <td>None</td>\n      <td>None</td>\n      <td>None</td>\n      <td>None</td>\n      <td>None</td>\n      <td>None</td>\n      <td>None</td>\n    </tr>\n    <tr>\n      <th>2</th>\n      <td>Manual Manipulation of Items</td>\n      <td>Reconfigure HAL for EVA</td>\n      <td>None</td>\n      <td>HAL_1_0.pdf</td>\n      <td>3.0</td>\n      <td>None</td>\n      <td>None</td>\n      <td>None</td>\n      <td>None</td>\n      <td>None</td>\n      <td>...</td>\n      <td>None</td>\n      <td>Remove the seat cushion</td>\n      <td>None</td>\n      <td>None</td>\n      <td>None</td>\n      <td>None</td>\n      <td>None</td>\n      <td>None</td>\n      <td>None</td>\n      <td>None</td>\n    </tr>\n    <tr>\n      <th>3</th>\n      <td>Manual Manipulation of Items</td>\n      <td>Reconfigure HAL for EVA</td>\n      <td>None</td>\n      <td>HAL_1_0.pdf</td>\n      <td>4.0</td>\n      <td>None</td>\n      <td>None</td>\n      <td>None</td>\n      <td>None</td>\n      <td>None</td>\n      <td>...</td>\n      <td>None</td>\n      <td>Fold the chair backs forward</td>\n      <td>None</td>\n      <td>None</td>\n      <td>None</td>\n      <td>None</td>\n      <td>None</td>\n      <td>None</td>\n      <td>None</td>\n      <td>None</td>\n    </tr>\n    <tr>\n      <th>4</th>\n      <td>Manual Manipulation of Items</td>\n      <td>Reconfigure HAL for EVA</td>\n      <td>None</td>\n      <td>HAL_1_0.pdf</td>\n      <td>5.0</td>\n      <td>None</td>\n      <td>None</td>\n      <td>None</td>\n      <td>None</td>\n      <td>None</td>\n      <td>...</td>\n      <td>None</td>\n      <td>Detach crew hygiene kit</td>\n      <td>None</td>\n      <td>from the aft transfer port hatches</td>\n      <td>None</td>\n      <td>None</td>\n      <td>None</td>\n      <td>None</td>\n      <td>None</td>\n      <td>None</td>\n    </tr>\n    <tr>\n      <th>5</th>\n      <td>Manual Manipulation of Items</td>\n      <td>Reconfigure HAL for EVA</td>\n      <td>None</td>\n      <td>HAL_1_0.pdf</td>\n      <td>6.0</td>\n      <td>None</td>\n      <td>None</td>\n      <td>None</td>\n      <td>None</td>\n      <td>None</td>\n      <td>...</td>\n      <td>None</td>\n      <td>Stow the crew hygiene kits</td>\n      <td>None</td>\n      <td>in Lockers SA-1 and PA-1</td>\n      <td>None</td>\n      <td>None</td>\n      <td>None</td>\n      <td>None</td>\n      <td>None</td>\n      <td>None</td>\n    </tr>\n    <tr>\n      <th>6</th>\n      <td>Manual Manipulation of Items</td>\n      <td>Reconfigure HAL for EVA</td>\n      <td>None</td>\n      <td>HAL_1_0.pdf</td>\n      <td>7.0</td>\n      <td>None</td>\n      <td>None</td>\n      <td>None</td>\n      <td>None</td>\n      <td>None</td>\n      <td>...</td>\n      <td>None</td>\n      <td>Remove hatch cargo nets</td>\n      <td>None</td>\n      <td>from lockers SA-1 and PA-1</td>\n      <td>None</td>\n      <td>None</td>\n      <td>None</td>\n      <td>None</td>\n      <td>None</td>\n      <td>None</td>\n    </tr>\n    <tr>\n      <th>7</th>\n      <td>Manual Manipulation of Items</td>\n      <td>Reconfigure HAL for EVA</td>\n      <td>None</td>\n      <td>HAL_1_0.pdf</td>\n      <td>8.0</td>\n      <td>None</td>\n      <td>None</td>\n      <td>None</td>\n      <td>None</td>\n      <td>None</td>\n      <td>...</td>\n      <td>None</td>\n      <td>Secure hatch cargo nets</td>\n      <td>to 3 of the 4 D-rings</td>\n      <td>at the starboard and port hatch openings</td>\n      <td>None</td>\n      <td>None</td>\n      <td>None</td>\n      <td>None</td>\n      <td>None</td>\n      <td>None</td>\n    </tr>\n    <tr>\n      <th>8</th>\n      <td>Manual Manipulation of Items</td>\n      <td>Reconfigure HAL for EVA</td>\n      <td>None</td>\n      <td>HAL_1_0.pdf</td>\n      <td>9.0</td>\n      <td>None</td>\n      <td>None</td>\n      <td>None</td>\n      <td>None</td>\n      <td>None</td>\n      <td>...</td>\n      <td>None</td>\n      <td>Remove IVA Common Tool Kit</td>\n      <td>None</td>\n      <td>from PM-5</td>\n      <td>None</td>\n      <td>None</td>\n      <td>None</td>\n      <td>None</td>\n      <td>None</td>\n      <td>None</td>\n    </tr>\n    <tr>\n      <th>9</th>\n      <td>Manual Manipulation of Items</td>\n      <td>Reconfigure HAL for EVA</td>\n      <td>None</td>\n      <td>HAL_1_0.pdf</td>\n      <td>10.0</td>\n      <td>None</td>\n      <td>None</td>\n      <td>None</td>\n      <td>None</td>\n      <td>None</td>\n      <td>...</td>\n      <td>None</td>\n      <td>Temp Stow IVA Common Tool Kit</td>\n      <td>None</td>\n      <td>behind the Port Hatch Opening</td>\n      <td>None</td>\n      <td>None</td>\n      <td>None</td>\n      <td>None</td>\n      <td>None</td>\n      <td>None</td>\n    </tr>\n    <tr>\n      <th>10</th>\n      <td>Manual Manipulation of Items</td>\n      <td>Reconfigure HAL for EVA</td>\n      <td>None</td>\n      <td>HAL_1_0.pdf</td>\n      <td>11.0</td>\n      <td>None</td>\n      <td>None</td>\n      <td>None</td>\n      <td>None</td>\n      <td>None</td>\n      <td>...</td>\n      <td>None</td>\n      <td>\"PRESS \"\"Enable\"\" \"</td>\n      <td>None</td>\n      <td>on PRS switch panel</td>\n      <td>None</td>\n      <td>None</td>\n      <td>None</td>\n      <td>\"\"\"Enable\"\" button\"</td>\n      <td>light up</td>\n      <td>PRS switch panel</td>\n    </tr>\n    <tr>\n      <th>11</th>\n      <td>Manual Manipulation of Items</td>\n      <td>Reconfigure HAL for EVA</td>\n      <td>None</td>\n      <td>HAL_1_0.pdf</td>\n      <td>12.0</td>\n      <td>None</td>\n      <td>None</td>\n      <td>None</td>\n      <td>None</td>\n      <td>None</td>\n      <td>...</td>\n      <td>None</td>\n      <td>\"PRESS \"\"Door Open\"\" \"</td>\n      <td>None</td>\n      <td>on PRS switch panel</td>\n      <td>None</td>\n      <td>None</td>\n      <td>None</td>\n      <td>None</td>\n      <td>None</td>\n      <td>None</td>\n    </tr>\n    <tr>\n      <th>12</th>\n      <td>Manual Manipulation of Items</td>\n      <td>Reconfigure HAL for EVA</td>\n      <td>None</td>\n      <td>HAL_1_0.pdf</td>\n      <td>13.0</td>\n      <td>None</td>\n      <td>None</td>\n      <td>None</td>\n      <td>None</td>\n      <td>None</td>\n      <td>...</td>\n      <td>None</td>\n      <td>\"PRESS \"\"Enable\"\"\"</td>\n      <td>None</td>\n      <td>None</td>\n      <td>None</td>\n      <td>None</td>\n      <td>None</td>\n      <td>The button</td>\n      <td>light up</td>\n      <td>PRS switch panel</td>\n    </tr>\n    <tr>\n      <th>13</th>\n      <td>Manual Manipulation of Items</td>\n      <td>Reconfigure HAL for EVA</td>\n      <td>None</td>\n      <td>HAL_1_0.pdf</td>\n      <td>14.0</td>\n      <td>None</td>\n      <td>None</td>\n      <td>None</td>\n      <td>None</td>\n      <td>None</td>\n      <td>...</td>\n      <td>None</td>\n      <td>\"PRESS \"\"Next Drawer\"\" or \"\"Prev Drawer\"\"\"</td>\n      <td>None</td>\n      <td>None</td>\n      <td>until Drawer 1</td>\n      <td>positioned</td>\n      <td>in front of transfer port door</td>\n      <td>None</td>\n      <td>None</td>\n      <td>None</td>\n    </tr>\n    <tr>\n      <th>14</th>\n      <td>Manual Manipulation of Items</td>\n      <td>Reconfigure HAL for EVA</td>\n      <td>None</td>\n      <td>HAL_1_0.pdf</td>\n      <td>15.0</td>\n      <td>None</td>\n      <td>None</td>\n      <td>None</td>\n      <td>None</td>\n      <td>None</td>\n      <td>...</td>\n      <td>None</td>\n      <td>ADJUST drawer position using</td>\n      <td>\"using  \"\"↑\"\" or \"\"↓\"\" buttons\"</td>\n      <td>None</td>\n      <td>None</td>\n      <td>None</td>\n      <td>None</td>\n      <td>None</td>\n      <td>None</td>\n      <td>None</td>\n    </tr>\n    <tr>\n      <th>15</th>\n      <td>Manual Manipulation of Items</td>\n      <td>Reconfigure HAL for EVA</td>\n      <td>None</td>\n      <td>HAL_1_0.pdf</td>\n      <td>16.0</td>\n      <td>None</td>\n      <td>None</td>\n      <td>None</td>\n      <td>None</td>\n      <td>None</td>\n      <td>...</td>\n      <td>None</td>\n      <td>PULL drawer into HAL cabin</td>\n      <td>None</td>\n      <td>None</td>\n      <td>None</td>\n      <td>None</td>\n      <td>None</td>\n      <td>None</td>\n      <td>None</td>\n      <td>None</td>\n    </tr>\n    <tr>\n      <th>16</th>\n      <td>Manual Manipulation of Items</td>\n      <td>Reconfigure HAL for EVA</td>\n      <td>None</td>\n      <td>HAL_1_0.pdf</td>\n      <td>17.0</td>\n      <td>None</td>\n      <td>None</td>\n      <td>None</td>\n      <td>None</td>\n      <td>None</td>\n      <td>...</td>\n      <td>None</td>\n      <td>REMOVE all bags</td>\n      <td>None</td>\n      <td>from PRS Drawer 1</td>\n      <td>None</td>\n      <td>None</td>\n      <td>None</td>\n      <td>None</td>\n      <td>None</td>\n      <td>None</td>\n    </tr>\n    <tr>\n      <th>17</th>\n      <td>Manual Manipulation of Items</td>\n      <td>Reconfigure HAL for EVA</td>\n      <td>None</td>\n      <td>HAL_1_0.pdf</td>\n      <td>18.0</td>\n      <td>None</td>\n      <td>None</td>\n      <td>None</td>\n      <td>None</td>\n      <td>None</td>\n      <td>...</td>\n      <td>None</td>\n      <td>TEMP STOW all bags</td>\n      <td>None</td>\n      <td>None</td>\n      <td>None</td>\n      <td>None</td>\n      <td>None</td>\n      <td>None</td>\n      <td>None</td>\n      <td>None</td>\n    </tr>\n    <tr>\n      <th>18</th>\n      <td>Manual Manipulation of Items</td>\n      <td>Reconfigure HAL for EVA</td>\n      <td>None</td>\n      <td>HAL_1_0.pdf</td>\n      <td>19.0</td>\n      <td>None</td>\n      <td>None</td>\n      <td>None</td>\n      <td>None</td>\n      <td>None</td>\n      <td>...</td>\n      <td>None</td>\n      <td>REMOVE EV1 EVA Mini-Workstation Kit ASSY</td>\n      <td>None</td>\n      <td>from PRS_D1</td>\n      <td>None</td>\n      <td>None</td>\n      <td>None</td>\n      <td>None</td>\n      <td>None</td>\n      <td>None</td>\n    </tr>\n    <tr>\n      <th>19</th>\n      <td>Manual Manipulation of Items</td>\n      <td>Reconfigure HAL for EVA</td>\n      <td>None</td>\n      <td>HAL_1_0.pdf</td>\n      <td>20.0</td>\n      <td>None</td>\n      <td>None</td>\n      <td>None</td>\n      <td>None</td>\n      <td>None</td>\n      <td>...</td>\n      <td>None</td>\n      <td>STOW EV1 EVA Mini-Workstation Kit ASSY</td>\n      <td>None</td>\n      <td>behind the Port Hatch Cargo Net</td>\n      <td>None</td>\n      <td>None</td>\n      <td>None</td>\n      <td>None</td>\n      <td>None</td>\n      <td>None</td>\n    </tr>\n  </tbody>\n</table>\n<p>20 rows × 21 columns</p>\n</div>"
     },
     "execution_count": 9,
     "metadata": {},
     "output_type": "execute_result"
    }
   ],
   "source": [
    "source_df = spark.read.format(\"csv\") \\\n",
    "    .options(header='True', inferSchema='True') \\\n",
    "    .load(config['data']['source'])\n",
    "\n",
    "source_df = source_df.toDF(*[c.lower() for c in source_df.columns])\n",
    "\n",
    "source_df.toPandas().head(20)"
   ],
   "metadata": {
    "collapsed": false
   }
  },
  {
   "cell_type": "code",
   "execution_count": 10,
   "outputs": [
    {
     "name": "stdout",
     "output_type": "stream",
     "text": [
      "23/03/31 11:14:34 WARN package: Truncated the string representation of a plan since it was too large. This behavior can be adjusted by setting 'spark.sql.debug.maxToStringFields'.\n"
     ]
    },
    {
     "data": {
      "text/plain": "            procedure name           label  \\\n0  Reconfigure HAL for EVA   action (what)   \n1  Reconfigure HAL for EVA   action (what)   \n2  Reconfigure HAL for EVA   action (what)   \n3  Reconfigure HAL for EVA   action (what)   \n4  Reconfigure HAL for EVA   action (what)   \n5  Reconfigure HAL for EVA  action (where)   \n6  Reconfigure HAL for EVA   action (what)   \n7  Reconfigure HAL for EVA  action (where)   \n8  Reconfigure HAL for EVA   action (what)   \n9  Reconfigure HAL for EVA  action (where)   \n\n                                  text  \n0       Stow monitors against the wall  \n1  Stow the keyboards against the wall  \n2              Remove the seat cushion  \n3         Fold the chair backs forward  \n4              Detach crew hygiene kit  \n5   from the aft transfer port hatches  \n6           Stow the crew hygiene kits  \n7             in Lockers SA-1 and PA-1  \n8              Remove hatch cargo nets  \n9           from lockers SA-1 and PA-1  ",
      "text/html": "<div>\n<style scoped>\n    .dataframe tbody tr th:only-of-type {\n        vertical-align: middle;\n    }\n\n    .dataframe tbody tr th {\n        vertical-align: top;\n    }\n\n    .dataframe thead th {\n        text-align: right;\n    }\n</style>\n<table border=\"1\" class=\"dataframe\">\n  <thead>\n    <tr style=\"text-align: right;\">\n      <th></th>\n      <th>procedure name</th>\n      <th>label</th>\n      <th>text</th>\n    </tr>\n  </thead>\n  <tbody>\n    <tr>\n      <th>0</th>\n      <td>Reconfigure HAL for EVA</td>\n      <td>action (what)</td>\n      <td>Stow monitors against the wall</td>\n    </tr>\n    <tr>\n      <th>1</th>\n      <td>Reconfigure HAL for EVA</td>\n      <td>action (what)</td>\n      <td>Stow the keyboards against the wall</td>\n    </tr>\n    <tr>\n      <th>2</th>\n      <td>Reconfigure HAL for EVA</td>\n      <td>action (what)</td>\n      <td>Remove the seat cushion</td>\n    </tr>\n    <tr>\n      <th>3</th>\n      <td>Reconfigure HAL for EVA</td>\n      <td>action (what)</td>\n      <td>Fold the chair backs forward</td>\n    </tr>\n    <tr>\n      <th>4</th>\n      <td>Reconfigure HAL for EVA</td>\n      <td>action (what)</td>\n      <td>Detach crew hygiene kit</td>\n    </tr>\n    <tr>\n      <th>5</th>\n      <td>Reconfigure HAL for EVA</td>\n      <td>action (where)</td>\n      <td>from the aft transfer port hatches</td>\n    </tr>\n    <tr>\n      <th>6</th>\n      <td>Reconfigure HAL for EVA</td>\n      <td>action (what)</td>\n      <td>Stow the crew hygiene kits</td>\n    </tr>\n    <tr>\n      <th>7</th>\n      <td>Reconfigure HAL for EVA</td>\n      <td>action (where)</td>\n      <td>in Lockers SA-1 and PA-1</td>\n    </tr>\n    <tr>\n      <th>8</th>\n      <td>Reconfigure HAL for EVA</td>\n      <td>action (what)</td>\n      <td>Remove hatch cargo nets</td>\n    </tr>\n    <tr>\n      <th>9</th>\n      <td>Reconfigure HAL for EVA</td>\n      <td>action (where)</td>\n      <td>from lockers SA-1 and PA-1</td>\n    </tr>\n  </tbody>\n</table>\n</div>"
     },
     "execution_count": 10,
     "metadata": {},
     "output_type": "execute_result"
    }
   ],
   "source": [
    "df = source_df \\\n",
    "    .select(\n",
    "        'procedure name',\n",
    "        expr(\"\"\"\n",
    "            stack(\n",
    "                16,\n",
    "                'actor', actor,\n",
    "                'trigger (what)', `trigger (what)`,\n",
    "                'trigger (how)', `trigger (how)`,\n",
    "                'trigger (where)', `trigger (where)`,\n",
    "                'decision (what)', `decision (what)`,\n",
    "                'decision (how)', `decision (how)`,\n",
    "                'decision (where)', `decision (where)`,\n",
    "                'action (what)', `action (what)`,\n",
    "                'action (how)', `action (how)`,\n",
    "                'action (where)', `action (where)`,\n",
    "                'waiting (what)', `waiting (what)`,\n",
    "                'waiting (how)', `waiting (how)`,\n",
    "                'waiting (where)', `waiting (where)`,\n",
    "                'verification (what)', `verification (what)`,\n",
    "                'verification (how)', `verification (how)`,\n",
    "                'verification (where)', `verification (where)`\n",
    "            ) as (label, text)\n",
    "        \"\"\")\n",
    "    ) \\\n",
    "    .filter(\"text is not null\")\n",
    "\n",
    "df.toPandas().head(10)"
   ],
   "metadata": {
    "collapsed": false
   }
  },
  {
   "cell_type": "code",
   "execution_count": null,
   "outputs": [],
   "source": [],
   "metadata": {
    "collapsed": false
   }
  }
 ],
 "metadata": {
  "kernelspec": {
   "display_name": "Python 3",
   "language": "python",
   "name": "python3"
  },
  "language_info": {
   "codemirror_mode": {
    "name": "ipython",
    "version": 2
   },
   "file_extension": ".py",
   "mimetype": "text/x-python",
   "name": "python",
   "nbconvert_exporter": "python",
   "pygments_lexer": "ipython2",
   "version": "2.7.6"
  }
 },
 "nbformat": 4,
 "nbformat_minor": 0
}
