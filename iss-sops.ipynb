{
 "cells": [
  {
   "cell_type": "markdown",
   "source": [
    "# GMU Daen 690 Spark Pipeline"
   ],
   "metadata": {
    "collapsed": false
   }
  },
  {
   "cell_type": "markdown",
   "source": [
    "## Setup\n",
    "Load the `.env` file if available and the application's config file. **Do NOT** commit your `.env` file to version control, as it may contain sensitive info and/or secrets. Use `.env.template` as a base for your personal `.env` file. Environment files should be, as the name suggests, specific to the environment that the application runs in.\n",
    "\n",
    "`tomllib` is used for the application's general configuration that typically doesn't change between environments and is intended to take the place of otherwise hard-coded values. More sophisticated libraries, like `pydantic` or `dynaconf`, exist for merging toml configurations, .env file variables, and the user's environment variables together.\n",
    "\n",
    "Rerun this cell anytime these files change."
   ],
   "metadata": {
    "collapsed": false
   }
  },
  {
   "cell_type": "code",
   "execution_count": 2,
   "outputs": [
    {
     "data": {
      "text/plain": "{'data': {'source': 'data/ISS_HAL_SOPs.csv',\n  'language': 'en',\n  'test_train_split': 0.9},\n 'pipeline': {'word_embeddings': 'bert',\n  'lemma_model': 'lemma_antbnc',\n  'sentence_embeddings_pooling_strategy': 'AVERAGE',\n  'classifier_epochs': 5,\n  'bert': {'model': 'bert_base_cased'}}}"
     },
     "execution_count": 2,
     "metadata": {},
     "output_type": "execute_result"
    }
   ],
   "source": [
    "import os\n",
    "from pathlib import Path\n",
    "from dotenv import load_dotenv\n",
    "load_dotenv()\n",
    "\n",
    "import tomllib\n",
    "\n",
    "with Path(\"application.toml\").open(\"rb\") as f:\n",
    "    config = tomllib.load(f)\n",
    "\n",
    "config"
   ],
   "metadata": {
    "collapsed": false
   }
  },
  {
   "cell_type": "markdown",
   "source": [
    "Import the dependencies as usual. This is done after the configuration above incase we want imports to be config-dependent."
   ],
   "metadata": {
    "collapsed": false
   }
  },
  {
   "cell_type": "code",
   "execution_count": 30,
   "outputs": [],
   "source": [
    "import httpx\n",
    "import io\n",
    "import os\n",
    "import pandas as pd\n",
    "from sklearn.metrics import classification_report, accuracy_score\n",
    "import pyspark as ps\n",
    "from pyspark import SparkContext, SparkFiles\n",
    "from pyspark.sql import SparkSession\n",
    "from pyspark.sql.functions import expr"
   ],
   "metadata": {
    "collapsed": false
   }
  },
  {
   "cell_type": "markdown",
   "source": [
    "Create spark session. Set the app name and execution mode. In this case, use all available cores on the local machine."
   ],
   "metadata": {
    "collapsed": false
   }
  },
  {
   "cell_type": "code",
   "execution_count": 4,
   "outputs": [
    {
     "name": "stdout",
     "output_type": "stream",
     "text": [
      ":: loading settings :: url = jar:file:/home/kevin/.cache/pypoetry/virtualenvs/daenspace690-spark-RdILXEdP-py3.11/lib/python3.11/site-packages/pyspark/jars/ivy-2.5.1.jar!/org/apache/ivy/core/settings/ivysettings.xml\n"
     ]
    },
    {
     "name": "stderr",
     "output_type": "stream",
     "text": [
      "Ivy Default Cache set to: /home/kevin/.ivy2/cache\n",
      "The jars for the packages stored in: /home/kevin/.ivy2/jars\n",
      "com.johnsnowlabs.nlp#spark-nlp_2.12 added as a dependency\n",
      ":: resolving dependencies :: org.apache.spark#spark-submit-parent-780135a9-3840-4775-901b-40a8d7557639;1.0\n",
      "\tconfs: [default]\n",
      "\tfound com.johnsnowlabs.nlp#spark-nlp_2.12;4.3.2 in central\n",
      "\tfound com.typesafe#config;1.4.2 in central\n",
      "\tfound org.rocksdb#rocksdbjni;6.29.5 in central\n",
      "\tfound com.amazonaws#aws-java-sdk-bundle;1.11.828 in central\n",
      "\tfound com.github.universal-automata#liblevenshtein;3.0.0 in central\n",
      "\tfound com.google.protobuf#protobuf-java-util;3.0.0-beta-3 in central\n",
      "\tfound com.google.protobuf#protobuf-java;3.0.0-beta-3 in central\n",
      "\tfound com.google.code.gson#gson;2.3 in central\n",
      "\tfound it.unimi.dsi#fastutil;7.0.12 in central\n",
      "\tfound org.projectlombok#lombok;1.16.8 in central\n",
      "\tfound com.google.cloud#google-cloud-storage;2.16.0 in central\n",
      "\tfound com.google.guava#guava;31.1-jre in central\n",
      "\tfound com.google.guava#failureaccess;1.0.1 in central\n",
      "\tfound com.google.guava#listenablefuture;9999.0-empty-to-avoid-conflict-with-guava in central\n",
      "\tfound com.google.errorprone#error_prone_annotations;2.16 in central\n",
      "\tfound com.google.j2objc#j2objc-annotations;1.3 in central\n",
      "\tfound com.google.http-client#google-http-client;1.42.3 in central\n",
      "\tfound io.opencensus#opencensus-contrib-http-util;0.31.1 in central\n",
      "\tfound com.google.http-client#google-http-client-jackson2;1.42.3 in central\n",
      "\tfound com.google.http-client#google-http-client-gson;1.42.3 in central\n",
      "\tfound com.google.api-client#google-api-client;2.1.1 in central\n",
      "\tfound commons-codec#commons-codec;1.15 in central\n",
      "\tfound com.google.oauth-client#google-oauth-client;1.34.1 in central\n",
      "\tfound com.google.http-client#google-http-client-apache-v2;1.42.3 in central\n",
      "\tfound com.google.apis#google-api-services-storage;v1-rev20220705-2.0.0 in central\n",
      "\tfound com.google.code.gson#gson;2.10 in central\n",
      "\tfound com.google.cloud#google-cloud-core;2.9.0 in central\n",
      "\tfound com.google.auto.value#auto-value-annotations;1.10.1 in central\n",
      "\tfound com.google.cloud#google-cloud-core-http;2.9.0 in central\n",
      "\tfound com.google.http-client#google-http-client-appengine;1.42.3 in central\n",
      "\tfound com.google.api#gax-httpjson;0.105.1 in central\n",
      "\tfound com.google.cloud#google-cloud-core-grpc;2.9.0 in central\n",
      "\tfound io.grpc#grpc-core;1.51.0 in central\n",
      "\tfound com.google.api#gax;2.20.1 in central\n",
      "\tfound com.google.api#gax-grpc;2.20.1 in central\n",
      "\tfound io.grpc#grpc-alts;1.51.0 in central\n",
      "\tfound io.grpc#grpc-grpclb;1.51.0 in central\n",
      "\tfound org.conscrypt#conscrypt-openjdk-uber;2.5.2 in central\n",
      "\tfound io.grpc#grpc-protobuf;1.51.0 in central\n",
      "\tfound com.google.auth#google-auth-library-credentials;1.13.0 in central\n",
      "\tfound com.google.auth#google-auth-library-oauth2-http;1.13.0 in central\n",
      "\tfound com.google.api#api-common;2.2.2 in central\n",
      "\tfound javax.annotation#javax.annotation-api;1.3.2 in central\n",
      "\tfound io.opencensus#opencensus-api;0.31.1 in central\n",
      "\tfound io.grpc#grpc-context;1.51.0 in central\n",
      "\tfound com.google.api.grpc#proto-google-iam-v1;1.6.22 in central\n",
      "\tfound com.google.protobuf#protobuf-java;3.21.10 in central\n",
      "\tfound com.google.protobuf#protobuf-java-util;3.21.10 in central\n",
      "\tfound com.google.api.grpc#proto-google-common-protos;2.11.0 in central\n",
      "\tfound org.threeten#threetenbp;1.6.4 in central\n",
      "\tfound com.google.api.grpc#proto-google-cloud-storage-v2;2.16.0-alpha in central\n",
      "\tfound com.google.api.grpc#grpc-google-cloud-storage-v2;2.16.0-alpha in central\n",
      "\tfound com.google.api.grpc#gapic-google-cloud-storage-v2;2.16.0-alpha in central\n",
      "\tfound com.fasterxml.jackson.core#jackson-core;2.14.1 in central\n",
      "\tfound com.google.code.findbugs#jsr305;3.0.2 in central\n",
      "\tfound io.grpc#grpc-api;1.51.0 in central\n",
      "\tfound io.grpc#grpc-auth;1.51.0 in central\n",
      "\tfound io.grpc#grpc-stub;1.51.0 in central\n",
      "\tfound org.checkerframework#checker-qual;3.28.0 in central\n",
      "\tfound com.google.api.grpc#grpc-google-iam-v1;1.6.22 in central\n",
      "\tfound io.grpc#grpc-protobuf-lite;1.51.0 in central\n",
      "\tfound com.google.android#annotations;4.1.1.4 in central\n",
      "\tfound org.codehaus.mojo#animal-sniffer-annotations;1.22 in central\n",
      "\tfound io.grpc#grpc-netty-shaded;1.51.0 in central\n",
      "\tfound io.perfmark#perfmark-api;0.26.0 in central\n",
      "\tfound io.grpc#grpc-googleapis;1.51.0 in central\n",
      "\tfound io.grpc#grpc-xds;1.51.0 in central\n",
      "\tfound io.opencensus#opencensus-proto;0.2.0 in central\n",
      "\tfound io.grpc#grpc-services;1.51.0 in central\n",
      "\tfound com.google.re2j#re2j;1.6 in central\n",
      "\tfound com.navigamez#greex;1.0 in central\n",
      "\tfound dk.brics.automaton#automaton;1.11-8 in central\n",
      "\tfound com.johnsnowlabs.nlp#tensorflow-cpu_2.12;0.4.4 in central\n",
      ":: resolution report :: resolve 843ms :: artifacts dl 24ms\n",
      "\t:: modules in use:\n",
      "\tcom.amazonaws#aws-java-sdk-bundle;1.11.828 from central in [default]\n",
      "\tcom.fasterxml.jackson.core#jackson-core;2.14.1 from central in [default]\n",
      "\tcom.github.universal-automata#liblevenshtein;3.0.0 from central in [default]\n",
      "\tcom.google.android#annotations;4.1.1.4 from central in [default]\n",
      "\tcom.google.api#api-common;2.2.2 from central in [default]\n",
      "\tcom.google.api#gax;2.20.1 from central in [default]\n",
      "\tcom.google.api#gax-grpc;2.20.1 from central in [default]\n",
      "\tcom.google.api#gax-httpjson;0.105.1 from central in [default]\n",
      "\tcom.google.api-client#google-api-client;2.1.1 from central in [default]\n",
      "\tcom.google.api.grpc#gapic-google-cloud-storage-v2;2.16.0-alpha from central in [default]\n",
      "\tcom.google.api.grpc#grpc-google-cloud-storage-v2;2.16.0-alpha from central in [default]\n",
      "\tcom.google.api.grpc#grpc-google-iam-v1;1.6.22 from central in [default]\n",
      "\tcom.google.api.grpc#proto-google-cloud-storage-v2;2.16.0-alpha from central in [default]\n",
      "\tcom.google.api.grpc#proto-google-common-protos;2.11.0 from central in [default]\n",
      "\tcom.google.api.grpc#proto-google-iam-v1;1.6.22 from central in [default]\n",
      "\tcom.google.apis#google-api-services-storage;v1-rev20220705-2.0.0 from central in [default]\n",
      "\tcom.google.auth#google-auth-library-credentials;1.13.0 from central in [default]\n",
      "\tcom.google.auth#google-auth-library-oauth2-http;1.13.0 from central in [default]\n",
      "\tcom.google.auto.value#auto-value-annotations;1.10.1 from central in [default]\n",
      "\tcom.google.cloud#google-cloud-core;2.9.0 from central in [default]\n",
      "\tcom.google.cloud#google-cloud-core-grpc;2.9.0 from central in [default]\n",
      "\tcom.google.cloud#google-cloud-core-http;2.9.0 from central in [default]\n",
      "\tcom.google.cloud#google-cloud-storage;2.16.0 from central in [default]\n",
      "\tcom.google.code.findbugs#jsr305;3.0.2 from central in [default]\n",
      "\tcom.google.code.gson#gson;2.10 from central in [default]\n",
      "\tcom.google.errorprone#error_prone_annotations;2.16 from central in [default]\n",
      "\tcom.google.guava#failureaccess;1.0.1 from central in [default]\n",
      "\tcom.google.guava#guava;31.1-jre from central in [default]\n",
      "\tcom.google.guava#listenablefuture;9999.0-empty-to-avoid-conflict-with-guava from central in [default]\n",
      "\tcom.google.http-client#google-http-client;1.42.3 from central in [default]\n",
      "\tcom.google.http-client#google-http-client-apache-v2;1.42.3 from central in [default]\n",
      "\tcom.google.http-client#google-http-client-appengine;1.42.3 from central in [default]\n",
      "\tcom.google.http-client#google-http-client-gson;1.42.3 from central in [default]\n",
      "\tcom.google.http-client#google-http-client-jackson2;1.42.3 from central in [default]\n",
      "\tcom.google.j2objc#j2objc-annotations;1.3 from central in [default]\n",
      "\tcom.google.oauth-client#google-oauth-client;1.34.1 from central in [default]\n",
      "\tcom.google.protobuf#protobuf-java;3.21.10 from central in [default]\n",
      "\tcom.google.protobuf#protobuf-java-util;3.21.10 from central in [default]\n",
      "\tcom.google.re2j#re2j;1.6 from central in [default]\n",
      "\tcom.johnsnowlabs.nlp#spark-nlp_2.12;4.3.2 from central in [default]\n",
      "\tcom.johnsnowlabs.nlp#tensorflow-cpu_2.12;0.4.4 from central in [default]\n",
      "\tcom.navigamez#greex;1.0 from central in [default]\n",
      "\tcom.typesafe#config;1.4.2 from central in [default]\n",
      "\tcommons-codec#commons-codec;1.15 from central in [default]\n",
      "\tdk.brics.automaton#automaton;1.11-8 from central in [default]\n",
      "\tio.grpc#grpc-alts;1.51.0 from central in [default]\n",
      "\tio.grpc#grpc-api;1.51.0 from central in [default]\n",
      "\tio.grpc#grpc-auth;1.51.0 from central in [default]\n",
      "\tio.grpc#grpc-context;1.51.0 from central in [default]\n",
      "\tio.grpc#grpc-core;1.51.0 from central in [default]\n",
      "\tio.grpc#grpc-googleapis;1.51.0 from central in [default]\n",
      "\tio.grpc#grpc-grpclb;1.51.0 from central in [default]\n",
      "\tio.grpc#grpc-netty-shaded;1.51.0 from central in [default]\n",
      "\tio.grpc#grpc-protobuf;1.51.0 from central in [default]\n",
      "\tio.grpc#grpc-protobuf-lite;1.51.0 from central in [default]\n",
      "\tio.grpc#grpc-services;1.51.0 from central in [default]\n",
      "\tio.grpc#grpc-stub;1.51.0 from central in [default]\n",
      "\tio.grpc#grpc-xds;1.51.0 from central in [default]\n",
      "\tio.opencensus#opencensus-api;0.31.1 from central in [default]\n",
      "\tio.opencensus#opencensus-contrib-http-util;0.31.1 from central in [default]\n",
      "\tio.opencensus#opencensus-proto;0.2.0 from central in [default]\n",
      "\tio.perfmark#perfmark-api;0.26.0 from central in [default]\n",
      "\tit.unimi.dsi#fastutil;7.0.12 from central in [default]\n",
      "\tjavax.annotation#javax.annotation-api;1.3.2 from central in [default]\n",
      "\torg.checkerframework#checker-qual;3.28.0 from central in [default]\n",
      "\torg.codehaus.mojo#animal-sniffer-annotations;1.22 from central in [default]\n",
      "\torg.conscrypt#conscrypt-openjdk-uber;2.5.2 from central in [default]\n",
      "\torg.projectlombok#lombok;1.16.8 from central in [default]\n",
      "\torg.rocksdb#rocksdbjni;6.29.5 from central in [default]\n",
      "\torg.threeten#threetenbp;1.6.4 from central in [default]\n",
      "\t:: evicted modules:\n",
      "\tcom.google.protobuf#protobuf-java-util;3.0.0-beta-3 by [com.google.protobuf#protobuf-java-util;3.21.10] in [default]\n",
      "\tcom.google.protobuf#protobuf-java;3.0.0-beta-3 by [com.google.protobuf#protobuf-java;3.21.10] in [default]\n",
      "\tcom.google.code.gson#gson;2.3 by [com.google.code.gson#gson;2.10] in [default]\n",
      "\t---------------------------------------------------------------------\n",
      "\t|                  |            modules            ||   artifacts   |\n",
      "\t|       conf       | number| search|dwnlded|evicted|| number|dwnlded|\n",
      "\t---------------------------------------------------------------------\n",
      "\t|      default     |   73  |   0   |   0   |   3   ||   70  |   0   |\n",
      "\t---------------------------------------------------------------------\n",
      ":: retrieving :: org.apache.spark#spark-submit-parent-780135a9-3840-4775-901b-40a8d7557639\n",
      "\tconfs: [default]\n",
      "\t0 artifacts copied, 70 already retrieved (0kB/16ms)\n"
     ]
    },
    {
     "name": "stdout",
     "output_type": "stream",
     "text": [
      "23/03/31 12:53:06 WARN NativeCodeLoader: Unable to load native-hadoop library for your platform... using builtin-java classes where applicable\n"
     ]
    },
    {
     "name": "stderr",
     "output_type": "stream",
     "text": [
      "Setting default log level to \"WARN\".\n",
      "To adjust logging level use sc.setLogLevel(newLevel). For SparkR, use setLogLevel(newLevel).\n"
     ]
    },
    {
     "data": {
      "text/plain": "('Apache Spark version:', '3.3.2')"
     },
     "execution_count": 4,
     "metadata": {},
     "output_type": "execute_result"
    }
   ],
   "source": [
    "spark = (\n",
    "    SparkSession\n",
    "        .builder\n",
    "        .appName(\"ISS Procedures\")\n",
    "        .master(\"local[*]\")\n",
    "        .config(\"spark.driver.memory\", os.environ.get(\"SPARK_DRIVER_MEMORY\") or \"8G\")\n",
    "        .config(\"spark.executor.memory\", os.environ.get(\"SPARK_EXECUTOR_MEMORY\") or \"8G\")\n",
    "        .config(\"spark.jars.packages\", \"com.johnsnowlabs.nlp:spark-nlp_2.12:4.3.2\")\n",
    "        .getOrCreate()\n",
    "    )\n",
    "\n",
    "\"Apache Spark version:\", spark.version"
   ],
   "metadata": {
    "collapsed": false
   }
  },
  {
   "cell_type": "code",
   "execution_count": 5,
   "outputs": [],
   "source": [
    "# Way overthought this, but ultimately, not really compatible with a notebook project.\n",
    "# match config['data']['source'].split(\":\")[0]:\n",
    "#     case \"http\"|\"https\":\n",
    "#         with httpx.Client() as client:\n",
    "#             r = client.get(config['data']['source'])\n",
    "#             csv = io.BytesIO(r.content)\n",
    "#     case \"file\":\n",
    "#         with Path(config['data']['source']).open(\"rb\") as f:\n",
    "#             csv = io.BytesIO(f.read())\n",
    "#     case _:\n",
    "#         csv = config['data']['source']"
   ],
   "metadata": {
    "collapsed": false
   }
  },
  {
   "cell_type": "markdown",
   "source": [
    "## Data Wrangling"
   ],
   "metadata": {
    "collapsed": false
   }
  },
  {
   "cell_type": "code",
   "execution_count": 6,
   "outputs": [
    {
     "data": {
      "text/plain": "                  procedure type           procedure name  \\\n0   Manual Manipulation of Items  Reconfigure HAL for EVA   \n1   Manual Manipulation of Items  Reconfigure HAL for EVA   \n2   Manual Manipulation of Items  Reconfigure HAL for EVA   \n3   Manual Manipulation of Items  Reconfigure HAL for EVA   \n4   Manual Manipulation of Items  Reconfigure HAL for EVA   \n5   Manual Manipulation of Items  Reconfigure HAL for EVA   \n6   Manual Manipulation of Items  Reconfigure HAL for EVA   \n7   Manual Manipulation of Items  Reconfigure HAL for EVA   \n8   Manual Manipulation of Items  Reconfigure HAL for EVA   \n9   Manual Manipulation of Items  Reconfigure HAL for EVA   \n10  Manual Manipulation of Items  Reconfigure HAL for EVA   \n11  Manual Manipulation of Items  Reconfigure HAL for EVA   \n12  Manual Manipulation of Items  Reconfigure HAL for EVA   \n13  Manual Manipulation of Items  Reconfigure HAL for EVA   \n14  Manual Manipulation of Items  Reconfigure HAL for EVA   \n15  Manual Manipulation of Items  Reconfigure HAL for EVA   \n16  Manual Manipulation of Items  Reconfigure HAL for EVA   \n17  Manual Manipulation of Items  Reconfigure HAL for EVA   \n18  Manual Manipulation of Items  Reconfigure HAL for EVA   \n19  Manual Manipulation of Items  Reconfigure HAL for EVA   \n\n                                   procedure end goal procedure file number  \\\n0   Configure the habitable airlock for EVA by rem...           HAL_1_0.pdf   \n1                                                None           HAL_1_0.pdf   \n2                                                None           HAL_1_0.pdf   \n3                                                None           HAL_1_0.pdf   \n4                                                None           HAL_1_0.pdf   \n5                                                None           HAL_1_0.pdf   \n6                                                None           HAL_1_0.pdf   \n7                                                None           HAL_1_0.pdf   \n8                                                None           HAL_1_0.pdf   \n9                                                None           HAL_1_0.pdf   \n10                                               None           HAL_1_0.pdf   \n11                                               None           HAL_1_0.pdf   \n12                                               None           HAL_1_0.pdf   \n13                                               None           HAL_1_0.pdf   \n14                                               None           HAL_1_0.pdf   \n15                                               None           HAL_1_0.pdf   \n16                                               None           HAL_1_0.pdf   \n17                                               None           HAL_1_0.pdf   \n18                                               None           HAL_1_0.pdf   \n19                                               None           HAL_1_0.pdf   \n\n    step number actor trigger (what) trigger (how) trigger (where)  \\\n0           1.0  None           None          None            None   \n1           2.0  None           None          None            None   \n2           3.0  None           None          None            None   \n3           4.0  None           None          None            None   \n4           5.0  None           None          None            None   \n5           6.0  None           None          None            None   \n6           7.0  None           None          None            None   \n7           8.0  None           None          None            None   \n8           9.0  None           None          None            None   \n9          10.0  None           None          None            None   \n10         11.0  None           None          None            None   \n11         12.0  None           None          None            None   \n12         13.0  None           None          None            None   \n13         14.0  None           None          None            None   \n14         15.0  None           None          None            None   \n15         16.0  None           None          None            None   \n16         17.0  None           None          None            None   \n17         18.0  None           None          None            None   \n18         19.0  None           None          None            None   \n19         20.0  None           None          None            None   \n\n   decision (what)  ... decision (where)  \\\n0             None  ...             None   \n1             None  ...             None   \n2             None  ...             None   \n3             None  ...             None   \n4             None  ...             None   \n5             None  ...             None   \n6             None  ...             None   \n7             None  ...             None   \n8             None  ...             None   \n9             None  ...             None   \n10            None  ...             None   \n11            None  ...             None   \n12            None  ...             None   \n13            None  ...             None   \n14            None  ...             None   \n15            None  ...             None   \n16            None  ...             None   \n17            None  ...             None   \n18            None  ...             None   \n19            None  ...             None   \n\n                                 action (what)  \\\n0               Stow monitors against the wall   \n1          Stow the keyboards against the wall   \n2                      Remove the seat cushion   \n3                 Fold the chair backs forward   \n4                      Detach crew hygiene kit   \n5                   Stow the crew hygiene kits   \n6                      Remove hatch cargo nets   \n7                     Secure hatch cargo nets    \n8                  Remove IVA Common Tool Kit    \n9                Temp Stow IVA Common Tool Kit   \n10                         \"PRESS \"\"Enable\"\" \"   \n11                      \"PRESS \"\"Door Open\"\" \"   \n12                          \"PRESS \"\"Enable\"\"\"   \n13  \"PRESS \"\"Next Drawer\"\" or \"\"Prev Drawer\"\"\"   \n14                ADJUST drawer position using   \n15                  PULL drawer into HAL cabin   \n16                            REMOVE all bags    \n17                          TEMP STOW all bags   \n18    REMOVE EV1 EVA Mini-Workstation Kit ASSY   \n19     STOW EV1 EVA Mini-Workstation Kit ASSY    \n\n                       action (how)                            action (where)  \\\n0                              None                                      None   \n1                              None                                      None   \n2                              None                                      None   \n3                              None                                      None   \n4                              None        from the aft transfer port hatches   \n5                              None                  in Lockers SA-1 and PA-1   \n6                              None                from lockers SA-1 and PA-1   \n7             to 3 of the 4 D-rings  at the starboard and port hatch openings   \n8                              None                                 from PM-5   \n9                              None             behind the Port Hatch Opening   \n10                             None                       on PRS switch panel   \n11                             None                       on PRS switch panel   \n12                             None                                      None   \n13                             None                                      None   \n14  \"using  \"\"↑\"\" or \"\"↓\"\" buttons\"                                      None   \n15                             None                                      None   \n16                             None                         from PRS Drawer 1   \n17                             None                                      None   \n18                             None                               from PRS_D1   \n19                             None           behind the Port Hatch Cargo Net   \n\n    waiting (what) waiting (how)                 waiting (where)  \\\n0             None          None                            None   \n1             None          None                            None   \n2             None          None                            None   \n3             None          None                            None   \n4             None          None                            None   \n5             None          None                            None   \n6             None          None                            None   \n7             None          None                            None   \n8             None          None                            None   \n9             None          None                            None   \n10            None          None                            None   \n11            None          None                            None   \n12            None          None                            None   \n13  until Drawer 1    positioned  in front of transfer port door   \n14            None          None                            None   \n15            None          None                            None   \n16            None          None                            None   \n17            None          None                            None   \n18            None          None                            None   \n19            None          None                            None   \n\n    verification (what) verification (how) verification (where)  \n0                  None               None                 None  \n1                  None               None                 None  \n2                  None               None                 None  \n3                  None               None                 None  \n4                  None               None                 None  \n5                  None               None                 None  \n6                  None               None                 None  \n7                  None               None                 None  \n8                  None               None                 None  \n9                  None               None                 None  \n10  \"\"\"Enable\"\" button\"           light up     PRS switch panel  \n11                 None               None                 None  \n12          The button            light up     PRS switch panel  \n13                 None               None                 None  \n14                 None               None                 None  \n15                 None               None                 None  \n16                 None               None                 None  \n17                 None               None                 None  \n18                 None               None                 None  \n19                 None               None                 None  \n\n[20 rows x 21 columns]",
      "text/html": "<div>\n<style scoped>\n    .dataframe tbody tr th:only-of-type {\n        vertical-align: middle;\n    }\n\n    .dataframe tbody tr th {\n        vertical-align: top;\n    }\n\n    .dataframe thead th {\n        text-align: right;\n    }\n</style>\n<table border=\"1\" class=\"dataframe\">\n  <thead>\n    <tr style=\"text-align: right;\">\n      <th></th>\n      <th>procedure type</th>\n      <th>procedure name</th>\n      <th>procedure end goal</th>\n      <th>procedure file number</th>\n      <th>step number</th>\n      <th>actor</th>\n      <th>trigger (what)</th>\n      <th>trigger (how)</th>\n      <th>trigger (where)</th>\n      <th>decision (what)</th>\n      <th>...</th>\n      <th>decision (where)</th>\n      <th>action (what)</th>\n      <th>action (how)</th>\n      <th>action (where)</th>\n      <th>waiting (what)</th>\n      <th>waiting (how)</th>\n      <th>waiting (where)</th>\n      <th>verification (what)</th>\n      <th>verification (how)</th>\n      <th>verification (where)</th>\n    </tr>\n  </thead>\n  <tbody>\n    <tr>\n      <th>0</th>\n      <td>Manual Manipulation of Items</td>\n      <td>Reconfigure HAL for EVA</td>\n      <td>Configure the habitable airlock for EVA by rem...</td>\n      <td>HAL_1_0.pdf</td>\n      <td>1.0</td>\n      <td>None</td>\n      <td>None</td>\n      <td>None</td>\n      <td>None</td>\n      <td>None</td>\n      <td>...</td>\n      <td>None</td>\n      <td>Stow monitors against the wall</td>\n      <td>None</td>\n      <td>None</td>\n      <td>None</td>\n      <td>None</td>\n      <td>None</td>\n      <td>None</td>\n      <td>None</td>\n      <td>None</td>\n    </tr>\n    <tr>\n      <th>1</th>\n      <td>Manual Manipulation of Items</td>\n      <td>Reconfigure HAL for EVA</td>\n      <td>None</td>\n      <td>HAL_1_0.pdf</td>\n      <td>2.0</td>\n      <td>None</td>\n      <td>None</td>\n      <td>None</td>\n      <td>None</td>\n      <td>None</td>\n      <td>...</td>\n      <td>None</td>\n      <td>Stow the keyboards against the wall</td>\n      <td>None</td>\n      <td>None</td>\n      <td>None</td>\n      <td>None</td>\n      <td>None</td>\n      <td>None</td>\n      <td>None</td>\n      <td>None</td>\n    </tr>\n    <tr>\n      <th>2</th>\n      <td>Manual Manipulation of Items</td>\n      <td>Reconfigure HAL for EVA</td>\n      <td>None</td>\n      <td>HAL_1_0.pdf</td>\n      <td>3.0</td>\n      <td>None</td>\n      <td>None</td>\n      <td>None</td>\n      <td>None</td>\n      <td>None</td>\n      <td>...</td>\n      <td>None</td>\n      <td>Remove the seat cushion</td>\n      <td>None</td>\n      <td>None</td>\n      <td>None</td>\n      <td>None</td>\n      <td>None</td>\n      <td>None</td>\n      <td>None</td>\n      <td>None</td>\n    </tr>\n    <tr>\n      <th>3</th>\n      <td>Manual Manipulation of Items</td>\n      <td>Reconfigure HAL for EVA</td>\n      <td>None</td>\n      <td>HAL_1_0.pdf</td>\n      <td>4.0</td>\n      <td>None</td>\n      <td>None</td>\n      <td>None</td>\n      <td>None</td>\n      <td>None</td>\n      <td>...</td>\n      <td>None</td>\n      <td>Fold the chair backs forward</td>\n      <td>None</td>\n      <td>None</td>\n      <td>None</td>\n      <td>None</td>\n      <td>None</td>\n      <td>None</td>\n      <td>None</td>\n      <td>None</td>\n    </tr>\n    <tr>\n      <th>4</th>\n      <td>Manual Manipulation of Items</td>\n      <td>Reconfigure HAL for EVA</td>\n      <td>None</td>\n      <td>HAL_1_0.pdf</td>\n      <td>5.0</td>\n      <td>None</td>\n      <td>None</td>\n      <td>None</td>\n      <td>None</td>\n      <td>None</td>\n      <td>...</td>\n      <td>None</td>\n      <td>Detach crew hygiene kit</td>\n      <td>None</td>\n      <td>from the aft transfer port hatches</td>\n      <td>None</td>\n      <td>None</td>\n      <td>None</td>\n      <td>None</td>\n      <td>None</td>\n      <td>None</td>\n    </tr>\n    <tr>\n      <th>5</th>\n      <td>Manual Manipulation of Items</td>\n      <td>Reconfigure HAL for EVA</td>\n      <td>None</td>\n      <td>HAL_1_0.pdf</td>\n      <td>6.0</td>\n      <td>None</td>\n      <td>None</td>\n      <td>None</td>\n      <td>None</td>\n      <td>None</td>\n      <td>...</td>\n      <td>None</td>\n      <td>Stow the crew hygiene kits</td>\n      <td>None</td>\n      <td>in Lockers SA-1 and PA-1</td>\n      <td>None</td>\n      <td>None</td>\n      <td>None</td>\n      <td>None</td>\n      <td>None</td>\n      <td>None</td>\n    </tr>\n    <tr>\n      <th>6</th>\n      <td>Manual Manipulation of Items</td>\n      <td>Reconfigure HAL for EVA</td>\n      <td>None</td>\n      <td>HAL_1_0.pdf</td>\n      <td>7.0</td>\n      <td>None</td>\n      <td>None</td>\n      <td>None</td>\n      <td>None</td>\n      <td>None</td>\n      <td>...</td>\n      <td>None</td>\n      <td>Remove hatch cargo nets</td>\n      <td>None</td>\n      <td>from lockers SA-1 and PA-1</td>\n      <td>None</td>\n      <td>None</td>\n      <td>None</td>\n      <td>None</td>\n      <td>None</td>\n      <td>None</td>\n    </tr>\n    <tr>\n      <th>7</th>\n      <td>Manual Manipulation of Items</td>\n      <td>Reconfigure HAL for EVA</td>\n      <td>None</td>\n      <td>HAL_1_0.pdf</td>\n      <td>8.0</td>\n      <td>None</td>\n      <td>None</td>\n      <td>None</td>\n      <td>None</td>\n      <td>None</td>\n      <td>...</td>\n      <td>None</td>\n      <td>Secure hatch cargo nets</td>\n      <td>to 3 of the 4 D-rings</td>\n      <td>at the starboard and port hatch openings</td>\n      <td>None</td>\n      <td>None</td>\n      <td>None</td>\n      <td>None</td>\n      <td>None</td>\n      <td>None</td>\n    </tr>\n    <tr>\n      <th>8</th>\n      <td>Manual Manipulation of Items</td>\n      <td>Reconfigure HAL for EVA</td>\n      <td>None</td>\n      <td>HAL_1_0.pdf</td>\n      <td>9.0</td>\n      <td>None</td>\n      <td>None</td>\n      <td>None</td>\n      <td>None</td>\n      <td>None</td>\n      <td>...</td>\n      <td>None</td>\n      <td>Remove IVA Common Tool Kit</td>\n      <td>None</td>\n      <td>from PM-5</td>\n      <td>None</td>\n      <td>None</td>\n      <td>None</td>\n      <td>None</td>\n      <td>None</td>\n      <td>None</td>\n    </tr>\n    <tr>\n      <th>9</th>\n      <td>Manual Manipulation of Items</td>\n      <td>Reconfigure HAL for EVA</td>\n      <td>None</td>\n      <td>HAL_1_0.pdf</td>\n      <td>10.0</td>\n      <td>None</td>\n      <td>None</td>\n      <td>None</td>\n      <td>None</td>\n      <td>None</td>\n      <td>...</td>\n      <td>None</td>\n      <td>Temp Stow IVA Common Tool Kit</td>\n      <td>None</td>\n      <td>behind the Port Hatch Opening</td>\n      <td>None</td>\n      <td>None</td>\n      <td>None</td>\n      <td>None</td>\n      <td>None</td>\n      <td>None</td>\n    </tr>\n    <tr>\n      <th>10</th>\n      <td>Manual Manipulation of Items</td>\n      <td>Reconfigure HAL for EVA</td>\n      <td>None</td>\n      <td>HAL_1_0.pdf</td>\n      <td>11.0</td>\n      <td>None</td>\n      <td>None</td>\n      <td>None</td>\n      <td>None</td>\n      <td>None</td>\n      <td>...</td>\n      <td>None</td>\n      <td>\"PRESS \"\"Enable\"\" \"</td>\n      <td>None</td>\n      <td>on PRS switch panel</td>\n      <td>None</td>\n      <td>None</td>\n      <td>None</td>\n      <td>\"\"\"Enable\"\" button\"</td>\n      <td>light up</td>\n      <td>PRS switch panel</td>\n    </tr>\n    <tr>\n      <th>11</th>\n      <td>Manual Manipulation of Items</td>\n      <td>Reconfigure HAL for EVA</td>\n      <td>None</td>\n      <td>HAL_1_0.pdf</td>\n      <td>12.0</td>\n      <td>None</td>\n      <td>None</td>\n      <td>None</td>\n      <td>None</td>\n      <td>None</td>\n      <td>...</td>\n      <td>None</td>\n      <td>\"PRESS \"\"Door Open\"\" \"</td>\n      <td>None</td>\n      <td>on PRS switch panel</td>\n      <td>None</td>\n      <td>None</td>\n      <td>None</td>\n      <td>None</td>\n      <td>None</td>\n      <td>None</td>\n    </tr>\n    <tr>\n      <th>12</th>\n      <td>Manual Manipulation of Items</td>\n      <td>Reconfigure HAL for EVA</td>\n      <td>None</td>\n      <td>HAL_1_0.pdf</td>\n      <td>13.0</td>\n      <td>None</td>\n      <td>None</td>\n      <td>None</td>\n      <td>None</td>\n      <td>None</td>\n      <td>...</td>\n      <td>None</td>\n      <td>\"PRESS \"\"Enable\"\"\"</td>\n      <td>None</td>\n      <td>None</td>\n      <td>None</td>\n      <td>None</td>\n      <td>None</td>\n      <td>The button</td>\n      <td>light up</td>\n      <td>PRS switch panel</td>\n    </tr>\n    <tr>\n      <th>13</th>\n      <td>Manual Manipulation of Items</td>\n      <td>Reconfigure HAL for EVA</td>\n      <td>None</td>\n      <td>HAL_1_0.pdf</td>\n      <td>14.0</td>\n      <td>None</td>\n      <td>None</td>\n      <td>None</td>\n      <td>None</td>\n      <td>None</td>\n      <td>...</td>\n      <td>None</td>\n      <td>\"PRESS \"\"Next Drawer\"\" or \"\"Prev Drawer\"\"\"</td>\n      <td>None</td>\n      <td>None</td>\n      <td>until Drawer 1</td>\n      <td>positioned</td>\n      <td>in front of transfer port door</td>\n      <td>None</td>\n      <td>None</td>\n      <td>None</td>\n    </tr>\n    <tr>\n      <th>14</th>\n      <td>Manual Manipulation of Items</td>\n      <td>Reconfigure HAL for EVA</td>\n      <td>None</td>\n      <td>HAL_1_0.pdf</td>\n      <td>15.0</td>\n      <td>None</td>\n      <td>None</td>\n      <td>None</td>\n      <td>None</td>\n      <td>None</td>\n      <td>...</td>\n      <td>None</td>\n      <td>ADJUST drawer position using</td>\n      <td>\"using  \"\"↑\"\" or \"\"↓\"\" buttons\"</td>\n      <td>None</td>\n      <td>None</td>\n      <td>None</td>\n      <td>None</td>\n      <td>None</td>\n      <td>None</td>\n      <td>None</td>\n    </tr>\n    <tr>\n      <th>15</th>\n      <td>Manual Manipulation of Items</td>\n      <td>Reconfigure HAL for EVA</td>\n      <td>None</td>\n      <td>HAL_1_0.pdf</td>\n      <td>16.0</td>\n      <td>None</td>\n      <td>None</td>\n      <td>None</td>\n      <td>None</td>\n      <td>None</td>\n      <td>...</td>\n      <td>None</td>\n      <td>PULL drawer into HAL cabin</td>\n      <td>None</td>\n      <td>None</td>\n      <td>None</td>\n      <td>None</td>\n      <td>None</td>\n      <td>None</td>\n      <td>None</td>\n      <td>None</td>\n    </tr>\n    <tr>\n      <th>16</th>\n      <td>Manual Manipulation of Items</td>\n      <td>Reconfigure HAL for EVA</td>\n      <td>None</td>\n      <td>HAL_1_0.pdf</td>\n      <td>17.0</td>\n      <td>None</td>\n      <td>None</td>\n      <td>None</td>\n      <td>None</td>\n      <td>None</td>\n      <td>...</td>\n      <td>None</td>\n      <td>REMOVE all bags</td>\n      <td>None</td>\n      <td>from PRS Drawer 1</td>\n      <td>None</td>\n      <td>None</td>\n      <td>None</td>\n      <td>None</td>\n      <td>None</td>\n      <td>None</td>\n    </tr>\n    <tr>\n      <th>17</th>\n      <td>Manual Manipulation of Items</td>\n      <td>Reconfigure HAL for EVA</td>\n      <td>None</td>\n      <td>HAL_1_0.pdf</td>\n      <td>18.0</td>\n      <td>None</td>\n      <td>None</td>\n      <td>None</td>\n      <td>None</td>\n      <td>None</td>\n      <td>...</td>\n      <td>None</td>\n      <td>TEMP STOW all bags</td>\n      <td>None</td>\n      <td>None</td>\n      <td>None</td>\n      <td>None</td>\n      <td>None</td>\n      <td>None</td>\n      <td>None</td>\n      <td>None</td>\n    </tr>\n    <tr>\n      <th>18</th>\n      <td>Manual Manipulation of Items</td>\n      <td>Reconfigure HAL for EVA</td>\n      <td>None</td>\n      <td>HAL_1_0.pdf</td>\n      <td>19.0</td>\n      <td>None</td>\n      <td>None</td>\n      <td>None</td>\n      <td>None</td>\n      <td>None</td>\n      <td>...</td>\n      <td>None</td>\n      <td>REMOVE EV1 EVA Mini-Workstation Kit ASSY</td>\n      <td>None</td>\n      <td>from PRS_D1</td>\n      <td>None</td>\n      <td>None</td>\n      <td>None</td>\n      <td>None</td>\n      <td>None</td>\n      <td>None</td>\n    </tr>\n    <tr>\n      <th>19</th>\n      <td>Manual Manipulation of Items</td>\n      <td>Reconfigure HAL for EVA</td>\n      <td>None</td>\n      <td>HAL_1_0.pdf</td>\n      <td>20.0</td>\n      <td>None</td>\n      <td>None</td>\n      <td>None</td>\n      <td>None</td>\n      <td>None</td>\n      <td>...</td>\n      <td>None</td>\n      <td>STOW EV1 EVA Mini-Workstation Kit ASSY</td>\n      <td>None</td>\n      <td>behind the Port Hatch Cargo Net</td>\n      <td>None</td>\n      <td>None</td>\n      <td>None</td>\n      <td>None</td>\n      <td>None</td>\n      <td>None</td>\n    </tr>\n  </tbody>\n</table>\n<p>20 rows × 21 columns</p>\n</div>"
     },
     "execution_count": 6,
     "metadata": {},
     "output_type": "execute_result"
    }
   ],
   "source": [
    "source_df = spark.read.format(\"csv\") \\\n",
    "    .options(header='True', inferSchema='True') \\\n",
    "    .load(config['data']['source'])\n",
    "\n",
    "source_df = source_df.toDF(*[c.lower() for c in source_df.columns])\n",
    "\n",
    "source_df.toPandas().head(20)"
   ],
   "metadata": {
    "collapsed": false
   }
  },
  {
   "cell_type": "code",
   "execution_count": 7,
   "outputs": [
    {
     "name": "stdout",
     "output_type": "stream",
     "text": [
      "23/03/31 12:53:12 WARN package: Truncated the string representation of a plan since it was too large. This behavior can be adjusted by setting 'spark.sql.debug.maxToStringFields'.\n"
     ]
    },
    {
     "data": {
      "text/plain": "            procedure name           label  \\\n0  Reconfigure HAL for EVA   action (what)   \n1  Reconfigure HAL for EVA   action (what)   \n2  Reconfigure HAL for EVA   action (what)   \n3  Reconfigure HAL for EVA   action (what)   \n4  Reconfigure HAL for EVA   action (what)   \n5  Reconfigure HAL for EVA  action (where)   \n6  Reconfigure HAL for EVA   action (what)   \n7  Reconfigure HAL for EVA  action (where)   \n8  Reconfigure HAL for EVA   action (what)   \n9  Reconfigure HAL for EVA  action (where)   \n\n                                  text  \n0       Stow monitors against the wall  \n1  Stow the keyboards against the wall  \n2              Remove the seat cushion  \n3         Fold the chair backs forward  \n4              Detach crew hygiene kit  \n5   from the aft transfer port hatches  \n6           Stow the crew hygiene kits  \n7             in Lockers SA-1 and PA-1  \n8              Remove hatch cargo nets  \n9           from lockers SA-1 and PA-1  ",
      "text/html": "<div>\n<style scoped>\n    .dataframe tbody tr th:only-of-type {\n        vertical-align: middle;\n    }\n\n    .dataframe tbody tr th {\n        vertical-align: top;\n    }\n\n    .dataframe thead th {\n        text-align: right;\n    }\n</style>\n<table border=\"1\" class=\"dataframe\">\n  <thead>\n    <tr style=\"text-align: right;\">\n      <th></th>\n      <th>procedure name</th>\n      <th>label</th>\n      <th>text</th>\n    </tr>\n  </thead>\n  <tbody>\n    <tr>\n      <th>0</th>\n      <td>Reconfigure HAL for EVA</td>\n      <td>action (what)</td>\n      <td>Stow monitors against the wall</td>\n    </tr>\n    <tr>\n      <th>1</th>\n      <td>Reconfigure HAL for EVA</td>\n      <td>action (what)</td>\n      <td>Stow the keyboards against the wall</td>\n    </tr>\n    <tr>\n      <th>2</th>\n      <td>Reconfigure HAL for EVA</td>\n      <td>action (what)</td>\n      <td>Remove the seat cushion</td>\n    </tr>\n    <tr>\n      <th>3</th>\n      <td>Reconfigure HAL for EVA</td>\n      <td>action (what)</td>\n      <td>Fold the chair backs forward</td>\n    </tr>\n    <tr>\n      <th>4</th>\n      <td>Reconfigure HAL for EVA</td>\n      <td>action (what)</td>\n      <td>Detach crew hygiene kit</td>\n    </tr>\n    <tr>\n      <th>5</th>\n      <td>Reconfigure HAL for EVA</td>\n      <td>action (where)</td>\n      <td>from the aft transfer port hatches</td>\n    </tr>\n    <tr>\n      <th>6</th>\n      <td>Reconfigure HAL for EVA</td>\n      <td>action (what)</td>\n      <td>Stow the crew hygiene kits</td>\n    </tr>\n    <tr>\n      <th>7</th>\n      <td>Reconfigure HAL for EVA</td>\n      <td>action (where)</td>\n      <td>in Lockers SA-1 and PA-1</td>\n    </tr>\n    <tr>\n      <th>8</th>\n      <td>Reconfigure HAL for EVA</td>\n      <td>action (what)</td>\n      <td>Remove hatch cargo nets</td>\n    </tr>\n    <tr>\n      <th>9</th>\n      <td>Reconfigure HAL for EVA</td>\n      <td>action (where)</td>\n      <td>from lockers SA-1 and PA-1</td>\n    </tr>\n  </tbody>\n</table>\n</div>"
     },
     "execution_count": 7,
     "metadata": {},
     "output_type": "execute_result"
    }
   ],
   "source": [
    "df = source_df \\\n",
    "    .select(\n",
    "        'procedure name',\n",
    "        expr(\"\"\"\n",
    "            stack(\n",
    "                16,\n",
    "                'actor', actor,\n",
    "                'trigger (what)', `trigger (what)`,\n",
    "                'trigger (how)', `trigger (how)`,\n",
    "                'trigger (where)', `trigger (where)`,\n",
    "                'decision (what)', `decision (what)`,\n",
    "                'decision (how)', `decision (how)`,\n",
    "                'decision (where)', `decision (where)`,\n",
    "                'action (what)', `action (what)`,\n",
    "                'action (how)', `action (how)`,\n",
    "                'action (where)', `action (where)`,\n",
    "                'waiting (what)', `waiting (what)`,\n",
    "                'waiting (how)', `waiting (how)`,\n",
    "                'waiting (where)', `waiting (where)`,\n",
    "                'verification (what)', `verification (what)`,\n",
    "                'verification (how)', `verification (how)`,\n",
    "                'verification (where)', `verification (where)`\n",
    "            ) as (label, text)\n",
    "        \"\"\")\n",
    "    ) \\\n",
    "    .filter(\"text is not null\")\n",
    "\n",
    "df.toPandas().head(10)"
   ],
   "metadata": {
    "collapsed": false
   }
  },
  {
   "cell_type": "markdown",
   "source": [
    "## Spark ML"
   ],
   "metadata": {
    "collapsed": false
   }
  },
  {
   "cell_type": "code",
   "execution_count": 8,
   "outputs": [
    {
     "data": {
      "text/plain": "('Spark NLP version', '4.3.2')"
     },
     "execution_count": 8,
     "metadata": {},
     "output_type": "execute_result"
    }
   ],
   "source": [
    "import sparknlp\n",
    "from sparknlp.base import *\n",
    "from sparknlp.annotator import *\n",
    "from pyspark.ml import Pipeline\n",
    "import pandas as pd\n",
    "\n",
    "\"Spark NLP version\", sparknlp.version()"
   ],
   "metadata": {
    "collapsed": false
   }
  },
  {
   "cell_type": "markdown",
   "source": [
    "### Pipeline Steps"
   ],
   "metadata": {
    "collapsed": false
   }
  },
  {
   "cell_type": "markdown",
   "source": [
    "Inital tokenization of dataframe."
   ],
   "metadata": {
    "collapsed": false
   }
  },
  {
   "cell_type": "code",
   "execution_count": 20,
   "outputs": [],
   "source": [
    "document = DocumentAssembler() \\\n",
    "    .setInputCol(\"text\") \\\n",
    "    .setOutputCol(\"document\")"
   ],
   "metadata": {
    "collapsed": false
   }
  },
  {
   "cell_type": "code",
   "execution_count": 10,
   "outputs": [],
   "source": [
    "tokenizer = Tokenizer() \\\n",
    "    .setInputCols([\"document\"]) \\\n",
    "    .setOutputCol(\"token\")"
   ],
   "metadata": {
    "collapsed": false
   }
  },
  {
   "cell_type": "code",
   "execution_count": 11,
   "outputs": [],
   "source": [
    "normalizer = Normalizer() \\\n",
    "    .setInputCols([\"token\"]) \\\n",
    "    .setOutputCol(\"normalized\")"
   ],
   "metadata": {
    "collapsed": false
   }
  },
  {
   "cell_type": "code",
   "execution_count": 12,
   "outputs": [],
   "source": [
    "stopwords_cleaner = StopWordsCleaner() \\\n",
    "    .setInputCols([\"normalized\"]) \\\n",
    "    .setOutputCol(\"cleanTokens\")"
   ],
   "metadata": {
    "collapsed": false
   }
  },
  {
   "cell_type": "code",
   "execution_count": 13,
   "outputs": [
    {
     "name": "stdout",
     "output_type": "stream",
     "text": [
      "lemma_antbnc download started this may take some time.\n",
      "Approximate size to download 907.6 KB\n",
      "[ | ]lemma_antbnc download started this may take some time.\n",
      "Approximate size to download 907.6 KB\n",
      "Download done! Loading the resource.\n",
      "[OK!]\n"
     ]
    }
   ],
   "source": [
    "lemma = LemmatizerModel \\\n",
    "    .pretrained(config[\"pipeline\"][\"lemma_model\"]) \\\n",
    "    .setInputCols([\"normalized\"])\\\n",
    "    .setOutputCol(\"lemma\")"
   ],
   "metadata": {
    "collapsed": false
   }
  },
  {
   "cell_type": "code",
   "execution_count": 14,
   "outputs": [
    {
     "name": "stdout",
     "output_type": "stream",
     "text": [
      "bert_base_cased download started this may take some time.\n",
      "Approximate size to download 389.1 MB\n",
      "[ | ]bert_base_cased download started this may take some time.\n",
      "Approximate size to download 389.1 MB\n",
      "Download done! Loading the resource.\n",
      "[ / ]"
     ]
    },
    {
     "name": "stderr",
     "output_type": "stream",
     "text": [
      "2023-03-31 12:53:25.938699: I external/org_tensorflow/tensorflow/core/platform/cpu_feature_guard.cc:151] This TensorFlow binary is optimized with oneAPI Deep Neural Network Library (oneDNN) to use the following CPU instructions in performance-critical operations:  AVX2 AVX512F FMA\n",
      "To enable them in other operations, rebuild TensorFlow with the appropriate compiler flags.\n"
     ]
    },
    {
     "name": "stdout",
     "output_type": "stream",
     "text": [
      "[OK!]\n"
     ]
    }
   ],
   "source": [
    "def set_word_embeddings(word_embeddings_name: str, input_cols: list[str], output_col: str, lang: str = config[\"data\"][\"language\"]) -> any:\n",
    "    match word_embeddings_name:\n",
    "        case \"bert\":\n",
    "            transformer = BertEmbeddings.pretrained(config[\"pipeline\"][word_embeddings_name][\"model\"], lang)\n",
    "        case \"elmo\":\n",
    "            transformer = ElmoEmbeddings.pretrained(config[\"pipeline\"][word_embeddings_name][\"model\"], lang)\n",
    "        case _:\n",
    "            raise NameError(f\"Not an implemented word embedding: {word_embeddings_name}\")\n",
    "\n",
    "    return transformer \\\n",
    "        .setInputCols(input_cols) \\\n",
    "        .setOutputCol(output_col)\n",
    "\n",
    "word_embeddings = set_word_embeddings(config[\"pipeline\"][\"word_embeddings\"], [\"document\", \"lemma\"], \"embeddings\")"
   ],
   "metadata": {
    "collapsed": false
   }
  },
  {
   "cell_type": "code",
   "execution_count": 15,
   "outputs": [],
   "source": [
    "sentence_embeddings = SentenceEmbeddings() \\\n",
    "    .setInputCols([\"document\", \"embeddings\"]) \\\n",
    "    .setOutputCol(\"sentence_embeddings\") \\\n",
    "    .setPoolingStrategy(\"AVERAGE\")"
   ],
   "metadata": {
    "collapsed": false
   }
  },
  {
   "cell_type": "code",
   "execution_count": 16,
   "outputs": [],
   "source": [
    "classifier = ClassifierDLApproach() \\\n",
    "    .setInputCols([\"sentence_embeddings\"]) \\\n",
    "    .setOutputCol(\"class\") \\\n",
    "    .setLabelColumn(\"label\") \\\n",
    "    .setMaxEpochs(config[\"pipeline\"][\"classifier_epochs\"]) \\\n",
    "    .setEnableOutputLogs(True)"
   ],
   "metadata": {
    "collapsed": false
   }
  },
  {
   "cell_type": "code",
   "execution_count": 21,
   "outputs": [],
   "source": [
    "pipeline = Pipeline(\n",
    "    stages=[\n",
    "        document,\n",
    "        tokenizer,\n",
    "        normalizer,\n",
    "        lemma,\n",
    "        word_embeddings,\n",
    "        sentence_embeddings,\n",
    "        classifier\n",
    "    ]\n",
    ")"
   ],
   "metadata": {
    "collapsed": false
   }
  },
  {
   "cell_type": "markdown",
   "source": [
    "### Training"
   ],
   "metadata": {
    "collapsed": false
   }
  },
  {
   "cell_type": "code",
   "execution_count": 18,
   "outputs": [],
   "source": [
    "split_ratio = config[\"data\"][\"test_train_split\"]\n",
    "\n",
    "train_df, test_df = df.randomSplit([split_ratio, 1 - split_ratio], seed = 17)"
   ],
   "metadata": {
    "collapsed": false
   }
  },
  {
   "cell_type": "code",
   "execution_count": 22,
   "outputs": [
    {
     "name": "stderr",
     "output_type": "stream",
     "text": [
      "2023-03-31 12:54:17.960496: I external/org_tensorflow/tensorflow/cc/saved_model/reader.cc:43] Reading SavedModel from: /tmp/688a7db9e908_classifier_dl11914931068105674014\n",
      "2023-03-31 12:54:18.014650: I external/org_tensorflow/tensorflow/cc/saved_model/reader.cc:107] Reading meta graph with tags { serve }\n",
      "2023-03-31 12:54:18.014805: I external/org_tensorflow/tensorflow/cc/saved_model/reader.cc:148] Reading SavedModel debug info (if present) from: /tmp/688a7db9e908_classifier_dl11914931068105674014\n",
      "2023-03-31 12:54:18.323564: I external/org_tensorflow/tensorflow/cc/saved_model/loader.cc:228] Restoring SavedModel bundle.\n",
      "2023-03-31 12:54:18.857713: I external/org_tensorflow/tensorflow/cc/saved_model/loader.cc:212] Running initialization op on SavedModel bundle at path: /tmp/688a7db9e908_classifier_dl11914931068105674014\n",
      "2023-03-31 12:54:18.968654: I external/org_tensorflow/tensorflow/cc/saved_model/loader.cc:301] SavedModel load for tags { serve }; Status: success: OK. Took 1008167 microseconds.\n"
     ]
    },
    {
     "name": "stdout",
     "output_type": "stream",
     "text": [
      "Training started - epochs: 5 - learning_rate: 0.005 - batch_size: 64 - training_examples: 1072 - classes: 15\n",
      "Epoch 1/5 - 0.28s - loss: 43.82694 - acc: 0.18587239 - batches: 17\n",
      "Epoch 2/5 - 0.08s - loss: 42.880547 - acc: 0.17415364 - batches: 17\n",
      "Epoch 3/5 - 0.08s - loss: 42.880547 - acc: 0.17415364 - batches: 17\n",
      "Epoch 4/5 - 0.08s - loss: 42.880547 - acc: 0.17415364 - batches: 17\n",
      "Epoch 5/5 - 0.07s - loss: 42.880547 - acc: 0.1751302 - batches: 17\n"
     ]
    }
   ],
   "source": [
    "pipeline_fitted = pipeline.fit(train_df)"
   ],
   "metadata": {
    "collapsed": false
   }
  },
  {
   "cell_type": "markdown",
   "source": [
    "### Testing"
   ],
   "metadata": {
    "collapsed": false
   }
  },
  {
   "cell_type": "code",
   "execution_count": 28,
   "outputs": [
    {
     "name": "stderr",
     "output_type": "stream",
     "text": [
      "                                                                                \r"
     ]
    },
    {
     "data": {
      "text/plain": "                                                 text                 label  \\\n0                                          turns blue         trigger (how)   \n1                               Verify HAL IMV CLOSED   verification (what)   \n2                                         PCS Display  verification (where)   \n3    \"Navigate to \"\"PCS\"\" in the Air Systems Display\"         action (what)   \n4                                   Seal Airlock SEAL         action (what)   \n..                                                ...                   ...   \n108                                   STOW Nose Bag 3         action (what)   \n109                          Secure hatch cargo nets          action (what)   \n110                                         from PN-4        action (where)   \n111                                         from SN-2        action (where)   \n112                                          light up    verification (how)   \n\n              result  \n0    trigger (where)  \n1    trigger (where)  \n2    trigger (where)  \n3    trigger (where)  \n4    trigger (where)  \n..               ...  \n108  trigger (where)  \n109  trigger (where)  \n110  trigger (where)  \n111  trigger (where)  \n112  trigger (where)  \n\n[113 rows x 3 columns]",
      "text/html": "<div>\n<style scoped>\n    .dataframe tbody tr th:only-of-type {\n        vertical-align: middle;\n    }\n\n    .dataframe tbody tr th {\n        vertical-align: top;\n    }\n\n    .dataframe thead th {\n        text-align: right;\n    }\n</style>\n<table border=\"1\" class=\"dataframe\">\n  <thead>\n    <tr style=\"text-align: right;\">\n      <th></th>\n      <th>text</th>\n      <th>label</th>\n      <th>result</th>\n    </tr>\n  </thead>\n  <tbody>\n    <tr>\n      <th>0</th>\n      <td>turns blue</td>\n      <td>trigger (how)</td>\n      <td>trigger (where)</td>\n    </tr>\n    <tr>\n      <th>1</th>\n      <td>Verify HAL IMV CLOSED</td>\n      <td>verification (what)</td>\n      <td>trigger (where)</td>\n    </tr>\n    <tr>\n      <th>2</th>\n      <td>PCS Display</td>\n      <td>verification (where)</td>\n      <td>trigger (where)</td>\n    </tr>\n    <tr>\n      <th>3</th>\n      <td>\"Navigate to \"\"PCS\"\" in the Air Systems Display\"</td>\n      <td>action (what)</td>\n      <td>trigger (where)</td>\n    </tr>\n    <tr>\n      <th>4</th>\n      <td>Seal Airlock SEAL</td>\n      <td>action (what)</td>\n      <td>trigger (where)</td>\n    </tr>\n    <tr>\n      <th>...</th>\n      <td>...</td>\n      <td>...</td>\n      <td>...</td>\n    </tr>\n    <tr>\n      <th>108</th>\n      <td>STOW Nose Bag 3</td>\n      <td>action (what)</td>\n      <td>trigger (where)</td>\n    </tr>\n    <tr>\n      <th>109</th>\n      <td>Secure hatch cargo nets</td>\n      <td>action (what)</td>\n      <td>trigger (where)</td>\n    </tr>\n    <tr>\n      <th>110</th>\n      <td>from PN-4</td>\n      <td>action (where)</td>\n      <td>trigger (where)</td>\n    </tr>\n    <tr>\n      <th>111</th>\n      <td>from SN-2</td>\n      <td>action (where)</td>\n      <td>trigger (where)</td>\n    </tr>\n    <tr>\n      <th>112</th>\n      <td>light up</td>\n      <td>verification (how)</td>\n      <td>trigger (where)</td>\n    </tr>\n  </tbody>\n</table>\n<p>113 rows × 3 columns</p>\n</div>"
     },
     "execution_count": 28,
     "metadata": {},
     "output_type": "execute_result"
    }
   ],
   "source": [
    "results_df = pipeline_fitted.transform(test_df).select(\"text\", \"label\", \"class.result\").toPandas()\n",
    "results_df['result'] = results_df['result'].apply(lambda x: x[0])\n",
    "\n",
    "results_df"
   ],
   "metadata": {
    "collapsed": false
   }
  },
  {
   "cell_type": "markdown",
   "source": [
    "### Results"
   ],
   "metadata": {
    "collapsed": false
   }
  },
  {
   "cell_type": "code",
   "execution_count": 33,
   "outputs": [
    {
     "name": "stdout",
     "output_type": "stream",
     "text": [
      "                      precision    recall  f1-score   support\n",
      "\n",
      "        action (how)       0.00      0.00      0.00         1\n",
      "       action (what)       0.00      0.00      0.00        35\n",
      "      action (where)       0.00      0.00      0.00        12\n",
      "       trigger (how)       0.00      0.00      0.00        20\n",
      "     trigger (where)       0.20      1.00      0.34        23\n",
      "  verification (how)       0.00      0.00      0.00         8\n",
      " verification (what)       0.00      0.00      0.00         5\n",
      "verification (where)       0.00      0.00      0.00         4\n",
      "       waiting (how)       0.00      0.00      0.00         4\n",
      "      waiting (what)       0.00      0.00      0.00         1\n",
      "\n",
      "            accuracy                           0.20       113\n",
      "           macro avg       0.02      0.10      0.03       113\n",
      "        weighted avg       0.04      0.20      0.07       113\n",
      "\n"
     ]
    },
    {
     "name": "stderr",
     "output_type": "stream",
     "text": [
      "/home/kevin/.cache/pypoetry/virtualenvs/daenspace690-spark-RdILXEdP-py3.11/lib64/python3.11/site-packages/sklearn/metrics/_classification.py:1344: UndefinedMetricWarning: Precision and F-score are ill-defined and being set to 0.0 in labels with no predicted samples. Use `zero_division` parameter to control this behavior.\n",
      "  _warn_prf(average, modifier, msg_start, len(result))\n",
      "/home/kevin/.cache/pypoetry/virtualenvs/daenspace690-spark-RdILXEdP-py3.11/lib64/python3.11/site-packages/sklearn/metrics/_classification.py:1344: UndefinedMetricWarning: Precision and F-score are ill-defined and being set to 0.0 in labels with no predicted samples. Use `zero_division` parameter to control this behavior.\n",
      "  _warn_prf(average, modifier, msg_start, len(result))\n",
      "/home/kevin/.cache/pypoetry/virtualenvs/daenspace690-spark-RdILXEdP-py3.11/lib64/python3.11/site-packages/sklearn/metrics/_classification.py:1344: UndefinedMetricWarning: Precision and F-score are ill-defined and being set to 0.0 in labels with no predicted samples. Use `zero_division` parameter to control this behavior.\n",
      "  _warn_prf(average, modifier, msg_start, len(result))\n"
     ]
    }
   ],
   "source": [
    "print(classification_report(results_df.label, results_df.result))"
   ],
   "metadata": {
    "collapsed": false
   }
  },
  {
   "cell_type": "code",
   "execution_count": 34,
   "outputs": [
    {
     "name": "stdout",
     "output_type": "stream",
     "text": [
      "0.20353982300884957\n"
     ]
    }
   ],
   "source": [
    "print(accuracy_score(results_df.label, results_df.result))"
   ],
   "metadata": {
    "collapsed": false
   }
  },
  {
   "cell_type": "code",
   "execution_count": null,
   "outputs": [],
   "source": [],
   "metadata": {
    "collapsed": false
   }
  }
 ],
 "metadata": {
  "kernelspec": {
   "display_name": "Python 3",
   "language": "python",
   "name": "python3"
  },
  "language_info": {
   "codemirror_mode": {
    "name": "ipython",
    "version": 2
   },
   "file_extension": ".py",
   "mimetype": "text/x-python",
   "name": "python",
   "nbconvert_exporter": "python",
   "pygments_lexer": "ipython2",
   "version": "2.7.6"
  }
 },
 "nbformat": 4,
 "nbformat_minor": 0
}
